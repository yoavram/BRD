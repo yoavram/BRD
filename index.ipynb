{
 "cells": [
  {
   "cell_type": "code",
   "execution_count": 7,
   "metadata": {},
   "outputs": [],
   "source": [
    "from BRD import *\n",
    "import numpy as np"
   ]
  },
  {
   "cell_type": "markdown",
   "metadata": {},
   "source": [
    "Define your profile here. Run the code by taping the play button above or clicking Shift+Enter."
   ]
  },
  {
   "cell_type": "code",
   "execution_count": 12,
   "metadata": {},
   "outputs": [],
   "source": [
    "profile = [\n",
    "    [19,  0,  1,  0],\n",
    "    [ 1,  0, 19,  0]\n",
    "]"
   ]
  },
  {
   "cell_type": "markdown",
   "metadata": {},
   "source": [
    "Run the analysis by clicking Shift+Enter."
   ]
  },
  {
   "cell_type": "code",
   "execution_count": 13,
   "metadata": {},
   "outputs": [
    {
     "name": "stdout",
     "output_type": "stream",
     "text": [
      "Initial:\n",
      "[[19  0  1  0]\n",
      " [ 1  0 19  0]]\n",
      "BRD:\n",
      "[[19  0  1  0]\n",
      " [ 1  0 19  0]]\n",
      "Nash? True\n"
     ]
    }
   ],
   "source": [
    "profile = np.array(profile)\n",
    "print(\"Initial:\")\n",
    "print(profile)\n",
    "profile = best_response(profile, random_deviator)\n",
    "print(\"BRD:\")\n",
    "print(profile)\n",
    "print(\"Nash?\", is_nash(profile))"
   ]
  },
  {
   "cell_type": "markdown",
   "metadata": {},
   "source": [
    "   "
   ]
  }
 ],
 "metadata": {
  "kernelspec": {
   "display_name": "Python 3",
   "language": "python",
   "name": "python3"
  },
  "language_info": {
   "codemirror_mode": {
    "name": "ipython",
    "version": 3
   },
   "file_extension": ".py",
   "mimetype": "text/x-python",
   "name": "python",
   "nbconvert_exporter": "python",
   "pygments_lexer": "ipython3",
   "version": "3.7.3"
  }
 },
 "nbformat": 4,
 "nbformat_minor": 4
}
